{
  "cells": [
    {
      "cell_type": "code",
      "source": [
        "import requests\n",
        "%matplotlib inline\n",
        "import matplotlib.pyplot as plt\n",
        "import json\n",
        "from PIL import Image\n",
        "from io import BytesIO\n",
        "\n",
        "subscription_key = \"128ba37bdaa043118ade8a452875c59e\"\n",
        "analyze_url = \"https://imagedetection16.cognitiveservices.azure.com//vision/v3.1/analyze\"\n",
        "image_url = input(\"Enter Image URL :- \")\n",
        "headers = {'Ocp-Apim-Subscription-Key': subscription_key}\n",
        "params = {'visualFeatures': 'Categories,Description,Faces,Objects'}\n",
        "data = {'url': image_url}\n",
        "\n",
        "try:\n",
        "    response = requests.post(analyze_url, headers=headers,params=params, json=data)\n",
        "    response.raise_for_status()\n",
        "    analysis = response.json()\n",
        "except Exception as e:\n",
        "    print(\"[Errno {0}] {1}\".format(e.errno, e.strerror))\n",
        "\n",
        "# Display the image\n",
        "image = Image.open(BytesIO(requests.get(image_url).content))\n",
        "plt.imshow(image)\n",
        "plt.axis(\"off\")\n",
        "plt.show()\n",
        "print(analysis)"
      ],
      "outputs": [],
      "execution_count": null,
      "metadata": {
        "gather": {
          "logged": 1640284933301
        }
      },
      "id": "2e8057b2"
    },
    {
      "cell_type": "code",
      "source": [
        "analysis['faces']"
      ],
      "outputs": [],
      "execution_count": null,
      "metadata": {
        "gather": {
          "logged": 1640284933403
        }
      },
      "id": "2496a014"
    },
    {
      "cell_type": "code",
      "source": [
        "faces = []\n",
        "for rec in analysis['faces']:\n",
        "    k = []\n",
        "    k.append(rec['faceRectangle']['left'])\n",
        "    k.append(rec['faceRectangle']['top'])\n",
        "    k.append(rec['faceRectangle']['width'])\n",
        "    k.append(rec['faceRectangle']['height'])\n",
        "    faces.append(k)\n",
        "faces"
      ],
      "outputs": [],
      "execution_count": null,
      "metadata": {
        "gather": {
          "logged": 1640284933466
        }
      },
      "id": "5cde3d20"
    },
    {
      "cell_type": "code",
      "source": [
        "import numpy as np\n",
        "import cv2\n",
        "\n",
        "\n",
        "def generate_bounding_box(image_url, boundRect):\n",
        "    image = Image.open(BytesIO(requests.get(image_url).content))\n",
        "    np_img = np.asarray(image)\n",
        "    drawing = np_img\n",
        "    for i in range(len(boundRect)):\n",
        "        color = (255,0,0)\n",
        "        cv2.rectangle(drawing, (int(boundRect[i][0]), int(boundRect[i][1])), \\\n",
        "          (int(boundRect[i][0]+boundRect[i][2]), int(boundRect[i][1]+boundRect[i][3])), color, 2)\n",
        "\n",
        "\n",
        "    #showing image\n",
        "    plt.figure(figsize=(14,8))\n",
        "    plt.imshow(drawing)\n",
        "    plt.axis(\"off\")\n",
        "    plt.show()\n",
        "generate_bounding_box(image_url,faces)"
      ],
      "outputs": [],
      "execution_count": null,
      "metadata": {
        "gather": {
          "logged": 1640284934288
        }
      },
      "id": "1d961a48"
    },
    {
      "cell_type": "code",
      "source": [],
      "outputs": [],
      "execution_count": null,
      "metadata": {},
      "id": "df420c7a"
    }
  ],
  "metadata": {
    "kernel_info": {
      "name": "python3-azureml"
    },
    "kernelspec": {
      "display_name": "Python 3.6 - AzureML",
      "language": "python",
      "name": "python3-azureml"
    },
    "language_info": {
      "codemirror_mode": {
        "name": "ipython",
        "version": 3
      },
      "file_extension": ".py",
      "mimetype": "text/x-python",
      "name": "python",
      "nbconvert_exporter": "python",
      "pygments_lexer": "ipython3",
      "version": "3.6.9"
    },
    "nteract": {
      "version": "nteract-front-end@1.0.0"
    },
    "microsoft": {
      "host": {
        "AzureML": {
          "notebookHasBeenCompleted": true
        }
      }
    }
  },
  "nbformat": 4,
  "nbformat_minor": 5
}